{
 "cells": [
  {
   "cell_type": "code",
   "execution_count": 13,
   "metadata": {},
   "outputs": [],
   "source": [
    "import pandas as pd\n",
    "import requests\n",
    "from bs4 import BeautifulSoup"
   ]
  },
  {
   "cell_type": "code",
   "execution_count": 14,
   "metadata": {},
   "outputs": [],
   "source": [
    "TAX_RATE = 1.10"
   ]
  },
  {
   "cell_type": "code",
   "execution_count": 15,
   "metadata": {},
   "outputs": [],
   "source": [
    "def get_dollar_amt(line):\n",
    "    index = line.find('$')\n",
    "    if index != -1:\n",
    "        line_start = line[index + 1:]\n",
    "        return float(line_start.replace(\",\", \"\"))\n",
    "    else:\n",
    "        return None"
   ]
  },
  {
   "cell_type": "code",
   "execution_count": 16,
   "metadata": {},
   "outputs": [],
   "source": [
    "def get_values(url):\n",
    "    retail_val = \"No retail value found\"\n",
    "    current_val = \"Available at retail\"\n",
    "\n",
    "    try:\n",
    "        result = requests.get(url)\n",
    "        src = result.content\n",
    "        soup = BeautifulSoup(src, \"html.parser\")\n",
    "\n",
    "        table = soup.find(\"table\")\n",
    "        if table:\n",
    "            smalls = table.find_all(\"small\")\n",
    "            parent_divs = set()\n",
    "\n",
    "            for small in smalls:\n",
    "                parent_divs.add(small.find_parent())\n",
    "\n",
    "            for parent_div in parent_divs:\n",
    "                text = parent_div.text\n",
    "\n",
    "                if \"$\" in text and \"Value\" in text:\n",
    "                    current_val = get_dollar_amt(text)\n",
    "                elif \"$\" in text:\n",
    "                    retail_val = get_dollar_amt(text)\n",
    "    except Exception as e:\n",
    "        print(f\"Error scraping data: {e}\")\n",
    "\n",
    "    return {\"retail value\": retail_val, \"current value\": current_val}"
   ]
  },
  {
   "cell_type": "code",
   "execution_count": 17,
   "metadata": {},
   "outputs": [],
   "source": [
    "def update_prices(data):\n",
    "    for i, set_num in enumerate(data['Set #']):\n",
    "        print(f'...updating set #{set_num}')\n",
    "        url = \"https://www.brickeconomy.com/search?query=\" + str(set_num)\n",
    "        set_info = get_values(url)\n",
    "        data.at[i, 'Current Val.'] = set_info['current value']\n",
    "        data.at[i, 'Retail Price'] = set_info['retail value']\n",
    "        if data.at[i, 'Current Val.'] == 'Available at retail':\n",
    "            data.at[i, 'Highest Val.'] = set_info['retail value']\n",
    "        else:\n",
    "            data.at[i, 'Highest Val.'] = max(data.at[i, 'Highest Val.'], data.at[i, 'Current Val.'])"
   ]
  },
  {
   "cell_type": "code",
   "execution_count": 22,
   "metadata": {},
   "outputs": [
    {
     "name": "stdout",
     "output_type": "stream",
     "text": [
      "...updating set #75280\n",
      "...updating set #75270\n",
      "...updating set #75274\n",
      "...updating set #75292\n",
      "...updating set #75269\n",
      "...updating set #75283\n",
      "...updating set #75294\n",
      "...updating set #75280\n",
      "...updating set #75294\n",
      "...updating set #77901\n"
     ]
    }
   ],
   "source": [
    "# Purchase Date\tSet #\tName\tRetail Price\tPurchase Price\tQty.\tTotal Invested\tROI\tCurrent Val.\tHighest Val.\t\tCurrent Invested\n",
    "\n",
    "# create a dataframe from the csv file\n",
    "data = pd.read_csv('mycollection.csv')\n",
    "\n",
    "# update the prices\n",
    "update_prices(data)\n",
    "\n",
    "# calculate the current invested\n",
    "data['Current Invested'] = data['Purchase Price'] * data['Qty.']\n",
    "\n",
    "data.to_csv('updated_mycollection.csv', index=False)"
   ]
  },
  {
   "cell_type": "code",
   "execution_count": null,
   "metadata": {},
   "outputs": [],
   "source": []
  }
 ],
 "metadata": {
  "kernelspec": {
   "display_name": "Python 3",
   "language": "python",
   "name": "python3"
  },
  "language_info": {
   "codemirror_mode": {
    "name": "ipython",
    "version": 3
   },
   "file_extension": ".py",
   "mimetype": "text/x-python",
   "name": "python",
   "nbconvert_exporter": "python",
   "pygments_lexer": "ipython3",
   "version": "3.10.11"
  }
 },
 "nbformat": 4,
 "nbformat_minor": 2
}
