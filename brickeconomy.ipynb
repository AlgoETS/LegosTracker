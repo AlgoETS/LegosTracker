{
 "cells": [
  {
   "cell_type": "code",
   "execution_count": 11,
   "metadata": {},
   "outputs": [
    {
     "name": "stdout",
     "output_type": "stream",
     "text": [
      "Requirement already satisfied: playwright in /home/antoine/.pyenv/versions/3.10.11/envs/shinobi/lib/python3.10/site-packages (1.11.0)\n",
      "Requirement already satisfied: websockets>=8.1 in /home/antoine/.pyenv/versions/3.10.11/envs/shinobi/lib/python3.10/site-packages (from playwright) (10.4)\n",
      "Requirement already satisfied: greenlet>=0.4 in /home/antoine/.pyenv/versions/3.10.11/envs/shinobi/lib/python3.10/site-packages (from playwright) (2.0.2)\n",
      "Requirement already satisfied: pyee>=8.0.1 in /home/antoine/.pyenv/versions/3.10.11/envs/shinobi/lib/python3.10/site-packages (from playwright) (8.2.2)\n",
      "\n",
      "\u001b[1m[\u001b[0m\u001b[34;49mnotice\u001b[0m\u001b[1;39;49m]\u001b[0m\u001b[39;49m A new release of pip is available: \u001b[0m\u001b[31;49m23.2.1\u001b[0m\u001b[39;49m -> \u001b[0m\u001b[32;49m24.0\u001b[0m\n",
      "\u001b[1m[\u001b[0m\u001b[34;49mnotice\u001b[0m\u001b[1;39;49m]\u001b[0m\u001b[39;49m To update, run: \u001b[0m\u001b[32;49mpip install --upgrade pip\u001b[0m\n"
     ]
    },
    {
     "ename": "TimeoutError",
     "evalue": "Timeout 30000.0ms exceeded.",
     "output_type": "error",
     "traceback": [
      "\u001b[0;31m---------------------------------------------------------------------------\u001b[0m",
      "\u001b[0;31mTimeoutError\u001b[0m                              Traceback (most recent call last)",
      "Cell \u001b[0;32mIn[11], line 64\u001b[0m\n\u001b[1;32m     61\u001b[0m         \u001b[38;5;28mprint\u001b[39m(item_details)\n\u001b[1;32m     63\u001b[0m lego_api \u001b[38;5;241m=\u001b[39m LegoAPI(\u001b[38;5;124m'\u001b[39m\u001b[38;5;124mset_list.txt\u001b[39m\u001b[38;5;124m'\u001b[39m)\n\u001b[0;32m---> 64\u001b[0m \u001b[38;5;28;01mawait\u001b[39;00m lego_api\u001b[38;5;241m.\u001b[39mstart()\n",
      "Cell \u001b[0;32mIn[11], line 27\u001b[0m, in \u001b[0;36mLegoAPI.start\u001b[0;34m(self)\u001b[0m\n\u001b[1;32m     25\u001b[0m search_url \u001b[38;5;241m=\u001b[39m \u001b[38;5;124mf\u001b[39m\u001b[38;5;124m\"\u001b[39m\u001b[38;5;132;01m{\u001b[39;00m\u001b[38;5;28mself\u001b[39m\u001b[38;5;241m.\u001b[39mroot_url\u001b[38;5;132;01m}\u001b[39;00m\u001b[38;5;124m/search?query=\u001b[39m\u001b[38;5;132;01m{\u001b[39;00mset_num\u001b[38;5;132;01m}\u001b[39;00m\u001b[38;5;124m\"\u001b[39m\n\u001b[1;32m     26\u001b[0m \u001b[38;5;28;01mawait\u001b[39;00m page\u001b[38;5;241m.\u001b[39mgoto(search_url)\n\u001b[0;32m---> 27\u001b[0m \u001b[38;5;28;01mawait\u001b[39;00m page\u001b[38;5;241m.\u001b[39mwait_for_load_state(\u001b[38;5;124m\"\u001b[39m\u001b[38;5;124mnetworkidle\u001b[39m\u001b[38;5;124m\"\u001b[39m)\n\u001b[1;32m     29\u001b[0m \u001b[38;5;28;01mtry\u001b[39;00m:\n\u001b[1;32m     30\u001b[0m     possible_links \u001b[38;5;241m=\u001b[39m \u001b[38;5;28;01mawait\u001b[39;00m page\u001b[38;5;241m.\u001b[39mquery_selector_all(\n\u001b[1;32m     31\u001b[0m         \u001b[38;5;124m'\u001b[39m\u001b[38;5;124mtable#ContentPlaceHolder1_ctlSetsOverview_GridViewSets tr td.hidden-xs.ctlsets-image a\u001b[39m\u001b[38;5;124m'\u001b[39m)\n",
      "File \u001b[0;32m~/.pyenv/versions/3.10.11/envs/shinobi/lib/python3.10/site-packages/playwright/async_api/_generated.py:6081\u001b[0m, in \u001b[0;36mPage.wait_for_load_state\u001b[0;34m(self, state, timeout)\u001b[0m\n\u001b[1;32m   6036\u001b[0m \u001b[38;5;28;01masync\u001b[39;00m \u001b[38;5;28;01mdef\u001b[39;00m \u001b[38;5;21mwait_for_load_state\u001b[39m(\n\u001b[1;32m   6037\u001b[0m     \u001b[38;5;28mself\u001b[39m,\n\u001b[1;32m   6038\u001b[0m     state: Literal[\u001b[38;5;124m\"\u001b[39m\u001b[38;5;124mdomcontentloaded\u001b[39m\u001b[38;5;124m\"\u001b[39m, \u001b[38;5;124m\"\u001b[39m\u001b[38;5;124mload\u001b[39m\u001b[38;5;124m\"\u001b[39m, \u001b[38;5;124m\"\u001b[39m\u001b[38;5;124mnetworkidle\u001b[39m\u001b[38;5;124m\"\u001b[39m] \u001b[38;5;241m=\u001b[39m \u001b[38;5;28;01mNone\u001b[39;00m,\n\u001b[1;32m   6039\u001b[0m     \u001b[38;5;241m*\u001b[39m,\n\u001b[1;32m   6040\u001b[0m     timeout: \u001b[38;5;28mfloat\u001b[39m \u001b[38;5;241m=\u001b[39m \u001b[38;5;28;01mNone\u001b[39;00m\n\u001b[1;32m   6041\u001b[0m ) \u001b[38;5;241m-\u001b[39m\u001b[38;5;241m>\u001b[39m NoneType:\n\u001b[1;32m   6042\u001b[0m \u001b[38;5;250m    \u001b[39m\u001b[38;5;124;03m\"\"\"Page.wait_for_load_state\u001b[39;00m\n\u001b[1;32m   6043\u001b[0m \n\u001b[1;32m   6044\u001b[0m \u001b[38;5;124;03m    Returns when the required load state has been reached.\u001b[39;00m\n\u001b[0;32m   (...)\u001b[0m\n\u001b[1;32m   6077\u001b[0m \u001b[38;5;124;03m        `page.set_default_timeout()` methods.\u001b[39;00m\n\u001b[1;32m   6078\u001b[0m \u001b[38;5;124;03m    \"\"\"\u001b[39;00m\n\u001b[1;32m   6080\u001b[0m     \u001b[38;5;28;01mreturn\u001b[39;00m mapping\u001b[38;5;241m.\u001b[39mfrom_maybe_impl(\n\u001b[0;32m-> 6081\u001b[0m         \u001b[38;5;28;01mawait\u001b[39;00m \u001b[38;5;28mself\u001b[39m\u001b[38;5;241m.\u001b[39m_async(\n\u001b[1;32m   6082\u001b[0m             \u001b[38;5;124m\"\u001b[39m\u001b[38;5;124mpage.wait_for_load_state\u001b[39m\u001b[38;5;124m\"\u001b[39m,\n\u001b[1;32m   6083\u001b[0m             \u001b[38;5;28mself\u001b[39m\u001b[38;5;241m.\u001b[39m_impl_obj\u001b[38;5;241m.\u001b[39mwait_for_load_state(state\u001b[38;5;241m=\u001b[39mstate, timeout\u001b[38;5;241m=\u001b[39mtimeout),\n\u001b[1;32m   6084\u001b[0m         )\n\u001b[1;32m   6085\u001b[0m     )\n",
      "File \u001b[0;32m~/.pyenv/versions/3.10.11/envs/shinobi/lib/python3.10/site-packages/playwright/_impl/_page.py:484\u001b[0m, in \u001b[0;36mPage.wait_for_load_state\u001b[0;34m(self, state, timeout)\u001b[0m\n\u001b[1;32m    481\u001b[0m \u001b[38;5;28;01masync\u001b[39;00m \u001b[38;5;28;01mdef\u001b[39;00m \u001b[38;5;21mwait_for_load_state\u001b[39m(\n\u001b[1;32m    482\u001b[0m     \u001b[38;5;28mself\u001b[39m, state: DocumentLoadState \u001b[38;5;241m=\u001b[39m \u001b[38;5;28;01mNone\u001b[39;00m, timeout: \u001b[38;5;28mfloat\u001b[39m \u001b[38;5;241m=\u001b[39m \u001b[38;5;28;01mNone\u001b[39;00m\n\u001b[1;32m    483\u001b[0m ) \u001b[38;5;241m-\u001b[39m\u001b[38;5;241m>\u001b[39m \u001b[38;5;28;01mNone\u001b[39;00m:\n\u001b[0;32m--> 484\u001b[0m     \u001b[38;5;28;01mreturn\u001b[39;00m \u001b[38;5;28;01mawait\u001b[39;00m \u001b[38;5;28mself\u001b[39m\u001b[38;5;241m.\u001b[39m_main_frame\u001b[38;5;241m.\u001b[39mwait_for_load_state(\u001b[38;5;241m*\u001b[39m\u001b[38;5;241m*\u001b[39mlocals_to_params(\u001b[38;5;28mlocals\u001b[39m()))\n",
      "File \u001b[0;32m~/.pyenv/versions/3.10.11/envs/shinobi/lib/python3.10/site-packages/playwright/_impl/_frame.py:212\u001b[0m, in \u001b[0;36mFrame.wait_for_load_state\u001b[0;34m(self, state, timeout)\u001b[0m\n\u001b[1;32m    208\u001b[0m wait_helper \u001b[38;5;241m=\u001b[39m \u001b[38;5;28mself\u001b[39m\u001b[38;5;241m.\u001b[39m_setup_navigation_wait_helper(\u001b[38;5;124m\"\u001b[39m\u001b[38;5;124mwait_for_load_state\u001b[39m\u001b[38;5;124m\"\u001b[39m, timeout)\n\u001b[1;32m    209\u001b[0m wait_helper\u001b[38;5;241m.\u001b[39mwait_for_event(\n\u001b[1;32m    210\u001b[0m     \u001b[38;5;28mself\u001b[39m\u001b[38;5;241m.\u001b[39m_event_emitter, \u001b[38;5;124m\"\u001b[39m\u001b[38;5;124mloadstate\u001b[39m\u001b[38;5;124m\"\u001b[39m, \u001b[38;5;28;01mlambda\u001b[39;00m s: s \u001b[38;5;241m==\u001b[39m state\n\u001b[1;32m    211\u001b[0m )\n\u001b[0;32m--> 212\u001b[0m \u001b[38;5;28;01mawait\u001b[39;00m wait_helper\u001b[38;5;241m.\u001b[39mresult()\n",
      "\u001b[0;31mTimeoutError\u001b[0m: Timeout 30000.0ms exceeded."
     ]
    }
   ],
   "source": [
    "!pip install playwright\n"
   ]
  },
  {
   "cell_type": "code",
   "execution_count": 12,
   "metadata": {},
   "outputs": [],
   "source": [
    "from playwright.async_api import async_playwright\n",
    "import asyncio\n",
    "\n",
    "class LegoAPI:\n",
    "    root_url = 'https://www.brickeconomy.com'\n",
    "\n",
    "    def __init__(self, set_list):\n",
    "        self.set_list = set_list\n",
    "\n",
    "    async def start(self):\n",
    "        try:\n",
    "            with open(self.set_list, 'r') as f:\n",
    "                set_list = [line.rstrip() for line in f.readlines()]\n",
    "        except Exception as e:\n",
    "            print(\"Error opening input file\")\n",
    "            raise e\n",
    "\n",
    "        async with async_playwright() as p:\n",
    "            browser = await p.chromium.launch()\n",
    "            page = await browser.new_page()\n",
    "\n",
    "            for set_num in set_list:\n",
    "                search_url = f\"{self.root_url}/search?query={set_num}\"\n",
    "                await page.goto(search_url)\n",
    "                await page.wait_for_load_state(\"networkidle\")\n",
    "\n",
    "                try:\n",
    "                    possible_links = await page.query_selector_all(\n",
    "                        'table#ContentPlaceHolder1_ctlSetsOverview_GridViewSets tr td.hidden-xs.ctlsets-image a')\n",
    "                except Exception as e:\n",
    "                    raise ValueError(f\"Error parsing HTML: {e}\")\n",
    "\n",
    "                if not possible_links:\n",
    "                    raise ValueError(f\"No links found for set number: {set_num}\")\n",
    "\n",
    "                for link in possible_links:\n",
    "                    href = await link.get_attribute(\"href\")\n",
    "                    test_num = href.split(\"/\")[2].split(\"-\")[0]\n",
    "                    if test_num == set_num:\n",
    "                        set_details = href.split(\"/\")[2:4]\n",
    "                        await page.goto(self.root_url + href)\n",
    "                        await page.wait_for_load_state(\"networkidle\")\n",
    "                        await self.parse_set(page, set_details)\n",
    "\n",
    "            await browser.close()\n",
    "\n",
    "    async def parse_set(self, page, set_details):\n",
    "        main_div = await page.query_selector('div#ContentPlaceHolder1_PanelSetPricing')\n",
    "\n",
    "        if not main_div:\n",
    "            raise ValueError(\"Main div not found in HTML\")\n",
    "\n",
    "        price_list = (await main_div.query_selector_all('div.row.rowlist div')).text_content().split('\\n')\n",
    "\n",
    "        if not price_list:\n",
    "            raise ValueError(\"Price list not found in HTML\")\n",
    "\n",
    "        item_details = {\" \".join(set_details): price_list}\n",
    "        print(item_details)"
   ]
  },
  {
   "cell_type": "code",
   "execution_count": 13,
   "metadata": {},
   "outputs": [
    {
     "ename": "ValueError",
     "evalue": "No links found for set number: 001-1",
     "output_type": "error",
     "traceback": [
      "\u001b[0;31m---------------------------------------------------------------------------\u001b[0m",
      "\u001b[0;31mValueError\u001b[0m                                Traceback (most recent call last)",
      "Cell \u001b[0;32mIn[13], line 2\u001b[0m\n\u001b[1;32m      1\u001b[0m lego_api \u001b[38;5;241m=\u001b[39m LegoAPI(\u001b[38;5;124m'\u001b[39m\u001b[38;5;124mset_list.txt\u001b[39m\u001b[38;5;124m'\u001b[39m)\n\u001b[0;32m----> 2\u001b[0m \u001b[38;5;28;01mawait\u001b[39;00m lego_api\u001b[38;5;241m.\u001b[39mstart()\n",
      "Cell \u001b[0;32mIn[12], line 34\u001b[0m, in \u001b[0;36mLegoAPI.start\u001b[0;34m(self)\u001b[0m\n\u001b[1;32m     31\u001b[0m     \u001b[38;5;28;01mraise\u001b[39;00m \u001b[38;5;167;01mValueError\u001b[39;00m(\u001b[38;5;124mf\u001b[39m\u001b[38;5;124m\"\u001b[39m\u001b[38;5;124mError parsing HTML: \u001b[39m\u001b[38;5;132;01m{\u001b[39;00me\u001b[38;5;132;01m}\u001b[39;00m\u001b[38;5;124m\"\u001b[39m)\n\u001b[1;32m     33\u001b[0m \u001b[38;5;28;01mif\u001b[39;00m \u001b[38;5;129;01mnot\u001b[39;00m possible_links:\n\u001b[0;32m---> 34\u001b[0m     \u001b[38;5;28;01mraise\u001b[39;00m \u001b[38;5;167;01mValueError\u001b[39;00m(\u001b[38;5;124mf\u001b[39m\u001b[38;5;124m\"\u001b[39m\u001b[38;5;124mNo links found for set number: \u001b[39m\u001b[38;5;132;01m{\u001b[39;00mset_num\u001b[38;5;132;01m}\u001b[39;00m\u001b[38;5;124m\"\u001b[39m)\n\u001b[1;32m     36\u001b[0m \u001b[38;5;28;01mfor\u001b[39;00m link \u001b[38;5;129;01min\u001b[39;00m possible_links:\n\u001b[1;32m     37\u001b[0m     href \u001b[38;5;241m=\u001b[39m \u001b[38;5;28;01mawait\u001b[39;00m link\u001b[38;5;241m.\u001b[39mget_attribute(\u001b[38;5;124m\"\u001b[39m\u001b[38;5;124mhref\u001b[39m\u001b[38;5;124m\"\u001b[39m)\n",
      "\u001b[0;31mValueError\u001b[0m: No links found for set number: 001-1"
     ]
    }
   ],
   "source": [
    "lego_api = LegoAPI('set_list.txt')\n",
    "await lego_api.start()"
   ]
  },
  {
   "cell_type": "code",
   "execution_count": null,
   "metadata": {},
   "outputs": [],
   "source": []
  }
 ],
 "metadata": {
  "kernelspec": {
   "display_name": "Python 3",
   "language": "python",
   "name": "python3"
  },
  "language_info": {
   "codemirror_mode": {
    "name": "ipython",
    "version": 3
   },
   "file_extension": ".py",
   "mimetype": "text/x-python",
   "name": "python",
   "nbconvert_exporter": "python",
   "pygments_lexer": "ipython3",
   "version": "3.10.11"
  }
 },
 "nbformat": 4,
 "nbformat_minor": 2
}
